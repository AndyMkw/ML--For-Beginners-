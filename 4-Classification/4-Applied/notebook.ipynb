{
 "metadata": {
  "language_info": {
   "codeMirror_mode": {
    "name": "ipython",
    "version": 3
   },
   "file_extension": ".py",
   "mimetype": "text/x-python",
   "name": "python",
   "nbConvert_exporter": "python",
   "pygments_lexer": "ipython3",
   "version": 3
  },
  "orig_nbFormat": 4
 },
 "nbFormat": 4,
 "nbFormat_minor": 2,
 "cells": [
  {
   "source": [
    "# Build a cuisine recommender"
   ],
   "cell_type": "markdown",
   "metadata": {}
  }
 ]
}
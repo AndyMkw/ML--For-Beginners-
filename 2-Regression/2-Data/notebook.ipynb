{
 "metadata": {
  "language_info": {
   "codeMirror_mode": {
    "name": "ipython",
    "version": 3
   },
   "file_extension": ".py",
   "mimetype": "text/x-python",
   "name": "python",
   "nbConvert_exporter": "python",
   "pygments_lexer": "ipython3",
   "version": "3.8.3-final"
  },
  "orig_nbFormat": 2,
  "kernelSpec": {
   "name": "python3",
   "display_name": "Python 3",
   "language": "python"
  }
 },
 "nbFormat": 4,
 "nbFormat_minor": 2,
 "cells": [
  {
   "cell_type": "code",
   "execution_count": null,
   "metadata": {},
   "outputs": [],
   "source": []
  }
 ]
}